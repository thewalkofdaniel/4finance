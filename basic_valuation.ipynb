{
 "cells": [
  {
   "cell_type": "markdown",
   "metadata": {},
   "source": [
    "# Net Present Value with Uniform Discount Rate"
   ]
  },
  {
   "cell_type": "code",
   "execution_count": 3,
   "metadata": {},
   "outputs": [
    {
     "name": "stdout",
     "output_type": "stream",
     "text": [
      "416.98654463492926\n"
     ]
    }
   ],
   "source": [
    "# For-Loop\n",
    "def npv(payments, interest=0.1):\n",
    "    \n",
    "    # 'Basic' implementation with For-Loop\n",
    "    npv = 0\n",
    "    for i in range(len(payments)):\n",
    "        npv += payments[i]*(1+interest)**(-i)\n",
    "    return npv\n",
    "\n",
    "print(npv([100,100,100,100,100]))"
   ]
  },
  {
   "cell_type": "code",
   "execution_count": 4,
   "metadata": {},
   "outputs": [
    {
     "name": "stdout",
     "output_type": "stream",
     "text": [
      "416.98654463492926\n"
     ]
    }
   ],
   "source": [
    "# Numpy\n",
    "import numpy as np\n",
    "\n",
    "def npv(payments, interest=0.1):\n",
    "    # Net Present Value with uniform discount rate\n",
    "    # Numpy implementation\n",
    "    discount_factors = np.array([(1+interest)**(-i) for i in range(len(payments))])\n",
    "    npv = (payments*discount_factors).sum()\n",
    "    return npv\n",
    "\n",
    "print(npv(np.array([100,100,100,100,100])))"
   ]
  },
  {
   "cell_type": "code",
   "execution_count": 5,
   "metadata": {},
   "outputs": [
    {
     "name": "stdout",
     "output_type": "stream",
     "text": [
      "416.98654463492926\n"
     ]
    }
   ],
   "source": [
    "# Class (with Numpy)\n",
    "import numpy as np\n",
    "\n",
    "class cashflow():\n",
    "    def __init__(self, payments, interest=0.1):\n",
    "        self.payments = payments\n",
    "        self.interest = interest\n",
    "    \n",
    "    def npv(self):\n",
    "        discount_factors = np.array([(1+self.interest)**(-i) for i in range(len(self.payments))])\n",
    "        npv = (self.payments*discount_factors).sum()\n",
    "        return npv\n",
    "    \n",
    "print(cashflow(np.array([100,100,100,100,100])).npv())"
   ]
  },
  {
   "cell_type": "markdown",
   "metadata": {},
   "source": [
    "# IRR"
   ]
  },
  {
   "cell_type": "code",
   "execution_count": 6,
   "metadata": {},
   "outputs": [],
   "source": [
    "# Bond\n",
    "payments = [30 for i in range(36)]\n",
    "payments[0] = -700.89\n",
    "payments[-1] = 1030\n",
    "payments = np.array(payments)"
   ]
  },
  {
   "cell_type": "code",
   "execution_count": 7,
   "metadata": {},
   "outputs": [
    {
     "name": "stdout",
     "output_type": "stream",
     "text": [
      "4.775 %\n"
     ]
    }
   ],
   "source": [
    "def irr(payments):\n",
    "    return np.irr(payments)\n",
    "\n",
    "print(round(irr(payments)*100,3),\"%\")"
   ]
  },
  {
   "cell_type": "markdown",
   "metadata": {},
   "source": [
    "def cdi(payments, perc_cdi=1):\n",
    "    interest_i = .04775\n",
    "    discount_factor = [(((1+interest_i)**(1/252)-1)*perc_cdi+1)**du_i for du_i in range(len(payments))]\n",
    "    npv = payments / discount_factor\n",
    "    return npv"
   ]
  }
 ],
 "metadata": {
  "kernelspec": {
   "display_name": "Python 3",
   "language": "python",
   "name": "python3"
  },
  "language_info": {
   "codemirror_mode": {
    "name": "ipython",
    "version": 3
   },
   "file_extension": ".py",
   "mimetype": "text/x-python",
   "name": "python",
   "nbconvert_exporter": "python",
   "pygments_lexer": "ipython3",
   "version": "3.7.1"
  }
 },
 "nbformat": 4,
 "nbformat_minor": 2
}
